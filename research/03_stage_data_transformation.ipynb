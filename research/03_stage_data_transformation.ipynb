{
 "cells": [
  {
   "cell_type": "code",
   "execution_count": 1,
   "metadata": {},
   "outputs": [],
   "source": [
    "import os"
   ]
  },
  {
   "cell_type": "code",
   "execution_count": 2,
   "metadata": {},
   "outputs": [
    {
     "data": {
      "text/plain": [
       "'c:\\\\Users\\\\asus\\\\OneDrive\\\\Desktop\\\\Risk_Score_Predication_With_ML_FLOW\\\\research'"
      ]
     },
     "execution_count": 2,
     "metadata": {},
     "output_type": "execute_result"
    }
   ],
   "source": [
    "%pwd"
   ]
  },
  {
   "cell_type": "code",
   "execution_count": 3,
   "metadata": {},
   "outputs": [],
   "source": [
    "os.chdir(\"../\")"
   ]
  },
  {
   "cell_type": "code",
   "execution_count": 4,
   "metadata": {},
   "outputs": [
    {
     "data": {
      "text/plain": [
       "'c:\\\\Users\\\\asus\\\\OneDrive\\\\Desktop\\\\Risk_Score_Predication_With_ML_FLOW'"
      ]
     },
     "execution_count": 4,
     "metadata": {},
     "output_type": "execute_result"
    }
   ],
   "source": [
    "%pwd"
   ]
  },
  {
   "cell_type": "code",
   "execution_count": 5,
   "metadata": {},
   "outputs": [],
   "source": [
    "from dataclasses import dataclass\n",
    "from pathlib import Path\n",
    "\n",
    "@dataclass(frozen=True)\n",
    "class DataTransformationConfig:\n",
    "    root_dir: Path\n",
    "    train_data_dir: Path\n",
    "    test_data_dir: Path\n",
    "    transformed_train_data_dir: Path\n",
    "    transformed_test_data_dir: Path\n",
    "    preprocessor_file_dir: Path\n"
   ]
  },
  {
   "cell_type": "code",
   "execution_count": null,
   "metadata": {},
   "outputs": [],
   "source": []
  },
  {
   "cell_type": "code",
   "execution_count": 6,
   "metadata": {},
   "outputs": [],
   "source": [
    "from RiskScorePrediction.constants import *\n",
    "from RiskScorePrediction.utils.common import read_yaml,create_directories,save_object"
   ]
  },
  {
   "cell_type": "code",
   "execution_count": null,
   "metadata": {},
   "outputs": [],
   "source": [
    "class ConfigurationManager:\n",
    "    def __init__(\n",
    "        self,\n",
    "        config_filepath = CONFIG_FILE_PATH,\n",
    "        params_filepath = PARAMS_FILE_PATH,\n",
    "        schema_filepath = SCHEMA_FILE_PATH):\n",
    "\n",
    "        self.config = read_yaml(config_filepath)\n",
    "        self.params = read_yaml(params_filepath)\n",
    "        self.schema = read_yaml(schema_filepath)\n",
    "\n",
    "        create_directories([self.config.artifacts_root])\n",
    "\n",
    "    def get_data_transformation_config(self) -> DataTransformationConfig:\n",
    "        config = self.config.data_transformation\n",
    "\n",
    "        create_directories([config.root_dir])\n",
    "        data_transformation_config = DataTransformationConfig(\n",
    "            root_dir = config.root_dir,\n",
    "            train_data_dir = config.train_data_dir,\n",
    "            test_data_dir = config.test_data_dir,\n",
    "            transformed_train_data_dir = config.transformed_train_data_dir,\n",
    "            transformed_test_data_dir = config.transformed_test_data_dir,\n",
    "            preprocessor_file_dir= config.preprocessor_file_dir\n",
    "        \n",
    "        )\n",
    "\n",
    "        return data_transformation_config"
   ]
  },
  {
   "cell_type": "code",
   "execution_count": 8,
   "metadata": {},
   "outputs": [],
   "source": [
    "import numpy as np\n",
    "import pandas as pd\n",
    "from sklearn.compose import ColumnTransformer\n",
    "from sklearn.impute import SimpleImputer\n",
    "from sklearn.pipeline import Pipeline\n",
    "from sklearn.preprocessing import OneHotEncoder,StandardScaler\n",
    "from RiskScorePrediction import logger"
   ]
  },
  {
   "cell_type": "code",
   "execution_count": 9,
   "metadata": {},
   "outputs": [],
   "source": [
    "class DataTransformation:\n",
    "    def __init__(self, config: DataTransformationConfig):\n",
    "        self.config = config\n",
    "\n",
    "        self.numerical_columns = [\n",
    "            'Age', 'AnnualIncome', 'CreditScore', 'Experience', 'LoanAmount',\n",
    "            'LoanDuration', 'NumberOfDependents', 'MonthlyDebtPayments',\n",
    "            'CreditCardUtilizationRate', 'NumberOfOpenCreditLines',\n",
    "            'NumberOfCreditInquiries', 'DebtToIncomeRatio', 'BankruptcyHistory',\n",
    "            'PreviousLoanDefaults', 'PaymentHistory', 'LengthOfCreditHistory',\n",
    "            'SavingsAccountBalance', 'CheckingAccountBalance', 'TotalAssets',\n",
    "            'TotalLiabilities', 'MonthlyIncome', 'UtilityBillsPaymentHistory',\n",
    "            'JobTenure', 'NetWorth', 'BaseInterestRate', 'InterestRate',\n",
    "            'MonthlyLoanPayment', 'TotalDebtToIncomeRatio', 'LoanApproved'\n",
    "        ]\n",
    "\n",
    "        self.categorical_columns = [\n",
    "            'EmploymentStatus', 'EducationLevel',\n",
    "            'MaritalStatus', 'HomeOwnershipStatus', 'LoanPurpose'\n",
    "        ]\n",
    "\n",
    "    def get_data_transformation(self):\n",
    "        try:\n",
    "            \n",
    "            num_pipeline = Pipeline([\n",
    "                ('imputer', SimpleImputer(strategy='median')),\n",
    "                ('scaler', StandardScaler())\n",
    "            ])\n",
    "\n",
    "            \n",
    "            cat_pipeline = Pipeline([\n",
    "                ('imputer', SimpleImputer(strategy=\"most_frequent\")),\n",
    "                ('one_hot_encoder', OneHotEncoder(handle_unknown='ignore'))\n",
    "            ])\n",
    "\n",
    "           \n",
    "            logger.info(f\"Categorical columns: {self.categorical_columns}\")\n",
    "            logger.info(f\"Numerical columns: {self.numerical_columns}\")\n",
    "\n",
    "           \n",
    "            preprocessor = ColumnTransformer([\n",
    "                (\"num_pipeline\", num_pipeline, self.numerical_columns),\n",
    "                (\"cat_pipeline\", cat_pipeline, self.categorical_columns)\n",
    "            ])\n",
    "\n",
    "            return preprocessor\n",
    "\n",
    "        except Exception as e:\n",
    "            logger.error(f\"Error in get_data_transformation: {str(e)}\")\n",
    "            raise e\n",
    "\n",
    "    def initiate_data_transformation(self):\n",
    "        try:\n",
    "           \n",
    "            train_df = pd.read_csv(self.config.train_data_dir)\n",
    "            test_df = pd.read_csv(self.config.test_data_dir)\n",
    "\n",
    "            logger.info(\"Successfully loaded train and test datasets.\")\n",
    "\n",
    "            \n",
    "            preprocessing_obj = self.get_data_transformation()\n",
    "\n",
    "            target_column_name = \"RiskScore\"\n",
    "\n",
    "           \n",
    "            input_feature_train_df = train_df.drop(columns=[target_column_name], axis=1)\n",
    "            target_feature_train_df = train_df[target_column_name]\n",
    "\n",
    "            input_feature_test_df = test_df.drop(columns=[target_column_name], axis=1)\n",
    "            target_feature_test_df = test_df[target_column_name]\n",
    "\n",
    "            \n",
    "            input_feature_train_arr = preprocessing_obj.fit_transform(input_feature_train_df)\n",
    "            input_feature_test_arr = preprocessing_obj.transform(input_feature_test_df)\n",
    "\n",
    "            \n",
    "            one_hot_feature_names = preprocessing_obj.named_transformers_[\"cat_pipeline\"] \\\n",
    "                .named_steps[\"one_hot_encoder\"].get_feature_names_out(self.categorical_columns)\n",
    "\n",
    "            \n",
    "            final_column_names = self.numerical_columns + list(one_hot_feature_names)\n",
    "\n",
    "            logger.info(f\"Transformed training data shape: {input_feature_train_arr.shape}\")\n",
    "            logger.info(f\"Transformed test data shape: {input_feature_test_arr.shape}\")\n",
    "\n",
    "            \n",
    "            train_arr = pd.DataFrame(\n",
    "                np.c_[input_feature_train_arr, np.array(target_feature_train_df)],\n",
    "                columns=final_column_names + [target_column_name]\n",
    "            )\n",
    "            test_arr = pd.DataFrame(\n",
    "                np.c_[input_feature_test_arr, np.array(target_feature_test_df)],\n",
    "                columns=final_column_names + [target_column_name]\n",
    "            )\n",
    "\n",
    "            \n",
    "            train_arr.to_csv(self.config.transformed_train_data_dir, index=False)\n",
    "            test_arr.to_csv(self.config.transformed_test_data_dir, index=False)\n",
    "\n",
    "            logger.info(\"Data transformation completed successfully.\")\n",
    "            logger.info(f\"Size of training data: {train_arr.shape}\")\n",
    "            logger.info(f\"Size of test data: {test_arr.shape}\")\n",
    "\n",
    "            save_object(\n",
    "                file_path=self.config.preprocessor_file_dir,\n",
    "                obj=preprocessing_obj\n",
    "\n",
    "            )\n",
    "\n",
    "        except Exception as e:\n",
    "            logger.error(f\"Error in initiate_data_transformation: {str(e)}\")\n",
    "            raise e\n"
   ]
  },
  {
   "cell_type": "code",
   "execution_count": 10,
   "metadata": {},
   "outputs": [
    {
     "name": "stdout",
     "output_type": "stream",
     "text": [
      "[2025-01-31 14:27:39,271: INFO: common: yaml file : config\\config.yaml loaded  sucessfully]\n",
      "[2025-01-31 14:27:39,278: INFO: common: yaml file : params.yaml loaded  sucessfully]\n",
      "[2025-01-31 14:27:39,286: INFO: common: yaml file : schema.yaml loaded  sucessfully]\n",
      "[2025-01-31 14:27:39,287: INFO: common: created directory at :artifacts]\n",
      "[2025-01-31 14:27:39,290: INFO: common: created directory at :artifacts/data_transformation]\n",
      "[2025-01-31 14:27:39,471: INFO: 677113324: Successfully loaded train and test datasets.]\n",
      "[2025-01-31 14:27:39,471: INFO: 677113324: Categorical columns: ['EmploymentStatus', 'EducationLevel', 'MaritalStatus', 'HomeOwnershipStatus', 'LoanPurpose']]\n",
      "[2025-01-31 14:27:39,471: INFO: 677113324: Numerical columns: ['Age', 'AnnualIncome', 'CreditScore', 'Experience', 'LoanAmount', 'LoanDuration', 'NumberOfDependents', 'MonthlyDebtPayments', 'CreditCardUtilizationRate', 'NumberOfOpenCreditLines', 'NumberOfCreditInquiries', 'DebtToIncomeRatio', 'BankruptcyHistory', 'PreviousLoanDefaults', 'PaymentHistory', 'LengthOfCreditHistory', 'SavingsAccountBalance', 'CheckingAccountBalance', 'TotalAssets', 'TotalLiabilities', 'MonthlyIncome', 'UtilityBillsPaymentHistory', 'JobTenure', 'NetWorth', 'BaseInterestRate', 'InterestRate', 'MonthlyLoanPayment', 'TotalDebtToIncomeRatio', 'LoanApproved']]\n",
      "[2025-01-31 14:27:39,627: INFO: 677113324: Transformed training data shape: (16000, 50)]\n",
      "[2025-01-31 14:27:39,627: INFO: 677113324: Transformed test data shape: (4000, 50)]\n",
      "[2025-01-31 14:27:40,554: INFO: 677113324: Data transformation completed successfully.]\n",
      "[2025-01-31 14:27:40,554: INFO: 677113324: Size of training data: (16000, 51)]\n",
      "[2025-01-31 14:27:40,554: INFO: 677113324: Size of test data: (4000, 51)]\n",
      "[2025-01-31 14:27:40,554: ERROR: 677113324: Error in initiate_data_transformation: save_object() got an unexpected keyword argument 'file']\n"
     ]
    },
    {
     "ename": "TypeError",
     "evalue": "save_object() got an unexpected keyword argument 'file'",
     "output_type": "error",
     "traceback": [
      "\u001b[1;31m---------------------------------------------------------------------------\u001b[0m",
      "\u001b[1;31mTypeError\u001b[0m                                 Traceback (most recent call last)",
      "Cell \u001b[1;32mIn[10], line 8\u001b[0m\n\u001b[0;32m      5\u001b[0m     data_transformation\u001b[38;5;241m.\u001b[39minitiate_data_transformation()\n\u001b[0;32m      7\u001b[0m \u001b[38;5;28;01mexcept\u001b[39;00m \u001b[38;5;167;01mException\u001b[39;00m \u001b[38;5;28;01mas\u001b[39;00m e:\n\u001b[1;32m----> 8\u001b[0m     \u001b[38;5;28;01mraise\u001b[39;00m e\n",
      "Cell \u001b[1;32mIn[10], line 5\u001b[0m\n\u001b[0;32m      3\u001b[0m     data_transformation_config \u001b[38;5;241m=\u001b[39m config\u001b[38;5;241m.\u001b[39mget_data_transformation_config()\n\u001b[0;32m      4\u001b[0m     data_transformation \u001b[38;5;241m=\u001b[39m DataTransformation(config\u001b[38;5;241m=\u001b[39mdata_transformation_config)\n\u001b[1;32m----> 5\u001b[0m     \u001b[43mdata_transformation\u001b[49m\u001b[38;5;241;43m.\u001b[39;49m\u001b[43minitiate_data_transformation\u001b[49m\u001b[43m(\u001b[49m\u001b[43m)\u001b[49m\n\u001b[0;32m      7\u001b[0m \u001b[38;5;28;01mexcept\u001b[39;00m \u001b[38;5;167;01mException\u001b[39;00m \u001b[38;5;28;01mas\u001b[39;00m e:\n\u001b[0;32m      8\u001b[0m     \u001b[38;5;28;01mraise\u001b[39;00m e\n",
      "Cell \u001b[1;32mIn[9], line 112\u001b[0m, in \u001b[0;36mDataTransformation.initiate_data_transformation\u001b[1;34m(self)\u001b[0m\n\u001b[0;32m    110\u001b[0m \u001b[38;5;28;01mexcept\u001b[39;00m \u001b[38;5;167;01mException\u001b[39;00m \u001b[38;5;28;01mas\u001b[39;00m e:\n\u001b[0;32m    111\u001b[0m     logger\u001b[38;5;241m.\u001b[39merror(\u001b[38;5;124mf\u001b[39m\u001b[38;5;124m\"\u001b[39m\u001b[38;5;124mError in initiate_data_transformation: \u001b[39m\u001b[38;5;132;01m{\u001b[39;00m\u001b[38;5;28mstr\u001b[39m(e)\u001b[38;5;132;01m}\u001b[39;00m\u001b[38;5;124m\"\u001b[39m)\n\u001b[1;32m--> 112\u001b[0m     \u001b[38;5;28;01mraise\u001b[39;00m e\n",
      "Cell \u001b[1;32mIn[9], line 104\u001b[0m, in \u001b[0;36mDataTransformation.initiate_data_transformation\u001b[1;34m(self)\u001b[0m\n\u001b[0;32m    101\u001b[0m     logger\u001b[38;5;241m.\u001b[39minfo(\u001b[38;5;124mf\u001b[39m\u001b[38;5;124m\"\u001b[39m\u001b[38;5;124mSize of training data: \u001b[39m\u001b[38;5;132;01m{\u001b[39;00mtrain_arr\u001b[38;5;241m.\u001b[39mshape\u001b[38;5;132;01m}\u001b[39;00m\u001b[38;5;124m\"\u001b[39m)\n\u001b[0;32m    102\u001b[0m     logger\u001b[38;5;241m.\u001b[39minfo(\u001b[38;5;124mf\u001b[39m\u001b[38;5;124m\"\u001b[39m\u001b[38;5;124mSize of test data: \u001b[39m\u001b[38;5;132;01m{\u001b[39;00mtest_arr\u001b[38;5;241m.\u001b[39mshape\u001b[38;5;132;01m}\u001b[39;00m\u001b[38;5;124m\"\u001b[39m)\n\u001b[1;32m--> 104\u001b[0m     \u001b[43msave_object\u001b[49m\u001b[43m(\u001b[49m\n\u001b[0;32m    105\u001b[0m \u001b[43m        \u001b[49m\u001b[43mfile\u001b[49m\u001b[38;5;241;43m=\u001b[39;49m\u001b[38;5;28;43mself\u001b[39;49m\u001b[38;5;241;43m.\u001b[39;49m\u001b[43mconfig\u001b[49m\u001b[38;5;241;43m.\u001b[39;49m\u001b[43mpreprocessor_file_dir\u001b[49m\u001b[43m,\u001b[49m\n\u001b[0;32m    106\u001b[0m \u001b[43m        \u001b[49m\u001b[43mobj\u001b[49m\u001b[38;5;241;43m=\u001b[39;49m\u001b[43mpreprocessing_obj\u001b[49m\n\u001b[0;32m    107\u001b[0m \n\u001b[0;32m    108\u001b[0m \u001b[43m    \u001b[49m\u001b[43m)\u001b[49m\n\u001b[0;32m    110\u001b[0m \u001b[38;5;28;01mexcept\u001b[39;00m \u001b[38;5;167;01mException\u001b[39;00m \u001b[38;5;28;01mas\u001b[39;00m e:\n\u001b[0;32m    111\u001b[0m     logger\u001b[38;5;241m.\u001b[39merror(\u001b[38;5;124mf\u001b[39m\u001b[38;5;124m\"\u001b[39m\u001b[38;5;124mError in initiate_data_transformation: \u001b[39m\u001b[38;5;132;01m{\u001b[39;00m\u001b[38;5;28mstr\u001b[39m(e)\u001b[38;5;132;01m}\u001b[39;00m\u001b[38;5;124m\"\u001b[39m)\n",
      "\u001b[1;31mTypeError\u001b[0m: save_object() got an unexpected keyword argument 'file'"
     ]
    }
   ],
   "source": [
    "try:\n",
    "    config = ConfigurationManager()\n",
    "    data_transformation_config = config.get_data_transformation_config()\n",
    "    data_transformation = DataTransformation(config=data_transformation_config)\n",
    "    data_transformation.initiate_data_transformation()\n",
    "\n",
    "except Exception as e:\n",
    "    raise e"
   ]
  },
  {
   "cell_type": "code",
   "execution_count": null,
   "metadata": {},
   "outputs": [],
   "source": []
  }
 ],
 "metadata": {
  "kernelspec": {
   "display_name": "risk",
   "language": "python",
   "name": "python3"
  },
  "language_info": {
   "codemirror_mode": {
    "name": "ipython",
    "version": 3
   },
   "file_extension": ".py",
   "mimetype": "text/x-python",
   "name": "python",
   "nbconvert_exporter": "python",
   "pygments_lexer": "ipython3",
   "version": "3.10.16"
  }
 },
 "nbformat": 4,
 "nbformat_minor": 2
}
