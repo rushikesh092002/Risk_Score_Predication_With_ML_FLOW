{
 "cells": [
  {
   "cell_type": "code",
   "execution_count": 1,
   "metadata": {},
   "outputs": [],
   "source": [
    "import os"
   ]
  },
  {
   "cell_type": "code",
   "execution_count": 2,
   "metadata": {},
   "outputs": [
    {
     "data": {
      "text/plain": [
       "'c:\\\\Users\\\\asus\\\\OneDrive\\\\Desktop\\\\Risk_Score_Predication_With_ML_FLOW\\\\research'"
      ]
     },
     "execution_count": 2,
     "metadata": {},
     "output_type": "execute_result"
    }
   ],
   "source": [
    "%pwd"
   ]
  },
  {
   "cell_type": "code",
   "execution_count": 3,
   "metadata": {},
   "outputs": [],
   "source": [
    "os.chdir(\"../\")"
   ]
  },
  {
   "cell_type": "code",
   "execution_count": 4,
   "metadata": {},
   "outputs": [
    {
     "data": {
      "text/plain": [
       "'c:\\\\Users\\\\asus\\\\OneDrive\\\\Desktop\\\\Risk_Score_Predication_With_ML_FLOW'"
      ]
     },
     "execution_count": 4,
     "metadata": {},
     "output_type": "execute_result"
    }
   ],
   "source": [
    "%pwd"
   ]
  },
  {
   "cell_type": "code",
   "execution_count": 5,
   "metadata": {},
   "outputs": [],
   "source": [
    "from dataclasses import dataclass\n",
    "from pathlib import Path\n",
    "\n",
    "@dataclass(frozen=True)\n",
    "class DataTransformationConfig:\n",
    "    root_dir: Path\n",
    "    train_data_dir: Path\n",
    "    test_data_dir: Path\n",
    "    transformed_train_data_dir: Path\n",
    "    transformed_test_data_dir: Path\n"
   ]
  },
  {
   "cell_type": "code",
   "execution_count": null,
   "metadata": {},
   "outputs": [],
   "source": []
  },
  {
   "cell_type": "code",
   "execution_count": 6,
   "metadata": {},
   "outputs": [],
   "source": [
    "from RiskScorePrediction.constants import *\n",
    "from RiskScorePrediction.utils.common import read_yaml,create_directories"
   ]
  },
  {
   "cell_type": "code",
   "execution_count": 7,
   "metadata": {},
   "outputs": [],
   "source": [
    "class ConfigurationManager:\n",
    "    def __init__(\n",
    "        self,\n",
    "        config_filepath = CONFIG_FILE_PATH,\n",
    "        params_filepath = PARAMS_FILE_PATH,\n",
    "        schema_filepath = SCHEMA_FILE_PATH):\n",
    "\n",
    "        self.config = read_yaml(config_filepath)\n",
    "        self.params = read_yaml(params_filepath)\n",
    "        self.schema = read_yaml(schema_filepath)\n",
    "\n",
    "        create_directories([self.config.artifacts_root])\n",
    "\n",
    "    def get_data_transformation_config(self) -> DataTransformationConfig:\n",
    "        config = self.config.data_transformation\n",
    "\n",
    "        create_directories([config.root_dir])\n",
    "        data_transformation_config = DataTransformationConfig(\n",
    "            root_dir = config.root_dir,\n",
    "            train_data_dir = config.train_data_dir,\n",
    "            test_data_dir = config.test_data_dir,\n",
    "            transformed_train_data_dir = config.transformed_train_data_dir,\n",
    "            transformed_test_data_dir = config.transformed_test_data_dir\n",
    "        )\n",
    "\n",
    "        return data_transformation_config"
   ]
  },
  {
   "cell_type": "code",
   "execution_count": 8,
   "metadata": {},
   "outputs": [],
   "source": [
    "import numpy as np\n",
    "import pandas as pd\n",
    "from sklearn.compose import ColumnTransformer\n",
    "from sklearn.impute import SimpleImputer\n",
    "from sklearn.pipeline import Pipeline\n",
    "from sklearn.preprocessing import OneHotEncoder,StandardScaler\n",
    "from RiskScorePrediction import logger"
   ]
  },
  {
   "cell_type": "code",
   "execution_count": 9,
   "metadata": {},
   "outputs": [],
   "source": [
    "class DataTransformation:\n",
    "    def __init__(self, config: DataTransformationConfig):\n",
    "        self.config = config\n",
    "\n",
    "        self.numerical_columns = [\n",
    "            'Age', 'AnnualIncome', 'CreditScore', 'Experience', 'LoanAmount',\n",
    "            'LoanDuration', 'NumberOfDependents', 'MonthlyDebtPayments',\n",
    "            'CreditCardUtilizationRate', 'NumberOfOpenCreditLines',\n",
    "            'NumberOfCreditInquiries', 'DebtToIncomeRatio', 'BankruptcyHistory',\n",
    "            'PreviousLoanDefaults', 'PaymentHistory', 'LengthOfCreditHistory',\n",
    "            'SavingsAccountBalance', 'CheckingAccountBalance', 'TotalAssets',\n",
    "            'TotalLiabilities', 'MonthlyIncome', 'UtilityBillsPaymentHistory',\n",
    "            'JobTenure', 'NetWorth', 'BaseInterestRate', 'InterestRate',\n",
    "            'MonthlyLoanPayment', 'TotalDebtToIncomeRatio', 'LoanApproved'\n",
    "        ]\n",
    "\n",
    "        self.categorical_columns = [\n",
    "            'EmploymentStatus', 'EducationLevel',\n",
    "            'MaritalStatus', 'HomeOwnershipStatus', 'LoanPurpose'\n",
    "        ]\n",
    "\n",
    "    def get_data_transformation(self):\n",
    "        try:\n",
    "            \n",
    "            num_pipeline = Pipeline([\n",
    "                ('imputer', SimpleImputer(strategy='median')),\n",
    "                ('scaler', StandardScaler())\n",
    "            ])\n",
    "\n",
    "            \n",
    "            cat_pipeline = Pipeline([\n",
    "                ('imputer', SimpleImputer(strategy=\"most_frequent\")),\n",
    "                ('one_hot_encoder', OneHotEncoder(handle_unknown='ignore'))\n",
    "            ])\n",
    "\n",
    "           \n",
    "            logger.info(f\"Categorical columns: {self.categorical_columns}\")\n",
    "            logger.info(f\"Numerical columns: {self.numerical_columns}\")\n",
    "\n",
    "           \n",
    "            preprocessor = ColumnTransformer([\n",
    "                (\"num_pipeline\", num_pipeline, self.numerical_columns),\n",
    "                (\"cat_pipeline\", cat_pipeline, self.categorical_columns)\n",
    "            ])\n",
    "\n",
    "            return preprocessor\n",
    "\n",
    "        except Exception as e:\n",
    "            logger.error(f\"Error in get_data_transformation: {str(e)}\")\n",
    "            raise e\n",
    "\n",
    "    def initiate_data_transformation(self):\n",
    "        try:\n",
    "           \n",
    "            train_df = pd.read_csv(self.config.train_data_dir)\n",
    "            test_df = pd.read_csv(self.config.test_data_dir)\n",
    "\n",
    "            logger.info(\"Successfully loaded train and test datasets.\")\n",
    "\n",
    "            \n",
    "            preprocessing_obj = self.get_data_transformation()\n",
    "\n",
    "            target_column_name = \"RiskScore\"\n",
    "\n",
    "           \n",
    "            input_feature_train_df = train_df.drop(columns=[target_column_name], axis=1)\n",
    "            target_feature_train_df = train_df[target_column_name]\n",
    "\n",
    "            input_feature_test_df = test_df.drop(columns=[target_column_name], axis=1)\n",
    "            target_feature_test_df = test_df[target_column_name]\n",
    "\n",
    "            \n",
    "            input_feature_train_arr = preprocessing_obj.fit_transform(input_feature_train_df)\n",
    "            input_feature_test_arr = preprocessing_obj.transform(input_feature_test_df)\n",
    "\n",
    "            \n",
    "            one_hot_feature_names = preprocessing_obj.named_transformers_[\"cat_pipeline\"] \\\n",
    "                .named_steps[\"one_hot_encoder\"].get_feature_names_out(self.categorical_columns)\n",
    "\n",
    "            \n",
    "            final_column_names = self.numerical_columns + list(one_hot_feature_names)\n",
    "\n",
    "            logger.info(f\"Transformed training data shape: {input_feature_train_arr.shape}\")\n",
    "            logger.info(f\"Transformed test data shape: {input_feature_test_arr.shape}\")\n",
    "\n",
    "            \n",
    "            train_arr = pd.DataFrame(\n",
    "                np.c_[input_feature_train_arr, np.array(target_feature_train_df)],\n",
    "                columns=final_column_names + [target_column_name]\n",
    "            )\n",
    "            test_arr = pd.DataFrame(\n",
    "                np.c_[input_feature_test_arr, np.array(target_feature_test_df)],\n",
    "                columns=final_column_names + [target_column_name]\n",
    "            )\n",
    "\n",
    "            \n",
    "            train_arr.to_csv(self.config.transformed_train_data_dir, index=False)\n",
    "            test_arr.to_csv(self.config.transformed_test_data_dir, index=False)\n",
    "\n",
    "            logger.info(\"Data transformation completed successfully.\")\n",
    "            logger.info(f\"Size of training data: {train_arr.shape}\")\n",
    "            logger.info(f\"Size of test data: {test_arr.shape}\")\n",
    "\n",
    "        except Exception as e:\n",
    "            logger.error(f\"Error in initiate_data_transformation: {str(e)}\")\n",
    "            raise e\n"
   ]
  },
  {
   "cell_type": "code",
   "execution_count": 10,
   "metadata": {},
   "outputs": [
    {
     "name": "stdout",
     "output_type": "stream",
     "text": [
      "[2025-01-30 23:08:02,849: INFO: common: yaml file : config\\config.yaml loaded  sucessfully]\n",
      "[2025-01-30 23:08:02,854: INFO: common: yaml file : params.yaml loaded  sucessfully]\n",
      "[2025-01-30 23:08:02,862: INFO: common: yaml file : schema.yaml loaded  sucessfully]\n",
      "[2025-01-30 23:08:02,864: INFO: common: created directory at :artifacts]\n",
      "[2025-01-30 23:08:02,864: INFO: common: created directory at :artifacts/data_transformation]\n",
      "[2025-01-30 23:08:02,958: INFO: 3377191899: Successfully loaded train and test datasets.]\n",
      "[2025-01-30 23:08:02,960: INFO: 3377191899: Categorical columns: ['EmploymentStatus', 'EducationLevel', 'MaritalStatus', 'HomeOwnershipStatus', 'LoanPurpose']]\n",
      "[2025-01-30 23:08:02,961: INFO: 3377191899: Numerical columns: ['Age', 'AnnualIncome', 'CreditScore', 'Experience', 'LoanAmount', 'LoanDuration', 'NumberOfDependents', 'MonthlyDebtPayments', 'CreditCardUtilizationRate', 'NumberOfOpenCreditLines', 'NumberOfCreditInquiries', 'DebtToIncomeRatio', 'BankruptcyHistory', 'PreviousLoanDefaults', 'PaymentHistory', 'LengthOfCreditHistory', 'SavingsAccountBalance', 'CheckingAccountBalance', 'TotalAssets', 'TotalLiabilities', 'MonthlyIncome', 'UtilityBillsPaymentHistory', 'JobTenure', 'NetWorth', 'BaseInterestRate', 'InterestRate', 'MonthlyLoanPayment', 'TotalDebtToIncomeRatio', 'LoanApproved']]\n",
      "[2025-01-30 23:08:03,035: INFO: 3377191899: Transformed training data shape: (7404, 50)]\n",
      "[2025-01-30 23:08:03,036: INFO: 3377191899: Transformed test data shape: (1852, 50)]\n",
      "[2025-01-30 23:08:03,493: INFO: 3377191899: Data transformation completed successfully.]\n",
      "[2025-01-30 23:08:03,495: INFO: 3377191899: Size of training data: (7404, 51)]\n",
      "[2025-01-30 23:08:03,495: INFO: 3377191899: Size of test data: (1852, 51)]\n"
     ]
    }
   ],
   "source": [
    "try:\n",
    "    config = ConfigurationManager()\n",
    "    data_transformation_config = config.get_data_transformation_config()\n",
    "    data_transformation = DataTransformation(config=data_transformation_config)\n",
    "    data_transformation.initiate_data_transformation()\n",
    "\n",
    "except Exception as e:\n",
    "    raise e"
   ]
  },
  {
   "cell_type": "code",
   "execution_count": null,
   "metadata": {},
   "outputs": [],
   "source": []
  }
 ],
 "metadata": {
  "kernelspec": {
   "display_name": "risk",
   "language": "python",
   "name": "python3"
  },
  "language_info": {
   "codemirror_mode": {
    "name": "ipython",
    "version": 3
   },
   "file_extension": ".py",
   "mimetype": "text/x-python",
   "name": "python",
   "nbconvert_exporter": "python",
   "pygments_lexer": "ipython3",
   "version": "3.10.16"
  }
 },
 "nbformat": 4,
 "nbformat_minor": 2
}
